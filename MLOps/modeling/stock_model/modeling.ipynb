{
 "cells": [
  {
   "cell_type": "code",
   "execution_count": 14,
   "id": "ea9e856f",
   "metadata": {},
   "outputs": [],
   "source": [
    "import warnings\n",
    "warnings.filterwarnings('ignore')\n",
    "import os\n",
    "import sys\n",
    "\n",
    "\n",
    "import pandas as pd\n",
    "import numpy as np\n",
    "import duckdb\n",
    "from sklearn.model_selection import train_test_split, GridSearchCV, RandomizedSearchCV\n",
    "from sklearn.preprocessing import OrdinalEncoder, OneHotEncoder, StandardScaler, FunctionTransformer\n",
    "from sklearn.base import BaseEstimator, TransformerMixin\n",
    "from sklearn.compose import ColumnTransformer\n",
    "from sklearn.pipeline import Pipeline\n",
    "from sklearn.metrics import r2_score, mean_absolute_percentage_error, mean_absolute_error\n",
    "from xgboost import XGBRegressor\n",
    "\n",
    "import pickle\n",
    "import joblib"
   ]
  },
  {
   "cell_type": "code",
   "execution_count": 15,
   "id": "957a16c9",
   "metadata": {},
   "outputs": [],
   "source": [
    "sys.path.append('../../..')\n",
    "from connection_params import *\n",
    "\n",
    "conn = duckdb.connect(f\"md:my_db?motherduck_token={duckdb_token}\")\n",
    "cur = conn.cursor()"
   ]
  },
  {
   "cell_type": "code",
   "execution_count": 16,
   "id": "20245bf4",
   "metadata": {},
   "outputs": [
    {
     "name": "stdout",
     "output_type": "stream",
     "text": [
      "(500, 7)\n",
      "<class 'pandas.core.frame.DataFrame'>\n",
      "RangeIndex: 500 entries, 0 to 499\n",
      "Data columns (total 7 columns):\n",
      " #   Column     Non-Null Count  Dtype  \n",
      "---  ------     --------------  -----  \n",
      " 0   Pair_ID    500 non-null    object \n",
      " 1   Timestamp  500 non-null    object \n",
      " 2   Open       500 non-null    float64\n",
      " 3   High       500 non-null    float64\n",
      " 4   Low        500 non-null    float64\n",
      " 5   Close      500 non-null    float64\n",
      " 6   Volume     500 non-null    float64\n",
      "dtypes: float64(5), object(2)\n",
      "memory usage: 27.5+ KB\n",
      "None\n"
     ]
    },
    {
     "data": {
      "text/html": [
       "<div>\n",
       "<style scoped>\n",
       "    .dataframe tbody tr th:only-of-type {\n",
       "        vertical-align: middle;\n",
       "    }\n",
       "\n",
       "    .dataframe tbody tr th {\n",
       "        vertical-align: top;\n",
       "    }\n",
       "\n",
       "    .dataframe thead th {\n",
       "        text-align: right;\n",
       "    }\n",
       "</style>\n",
       "<table border=\"1\" class=\"dataframe\">\n",
       "  <thead>\n",
       "    <tr style=\"text-align: right;\">\n",
       "      <th></th>\n",
       "      <th>Pair_ID</th>\n",
       "      <th>Timestamp</th>\n",
       "      <th>Open</th>\n",
       "      <th>High</th>\n",
       "      <th>Low</th>\n",
       "      <th>Close</th>\n",
       "      <th>Volume</th>\n",
       "    </tr>\n",
       "  </thead>\n",
       "  <tbody>\n",
       "    <tr>\n",
       "      <th>0</th>\n",
       "      <td>NEAR/USDT</td>\n",
       "      <td>2022-02-25 07:00:00+07:00</td>\n",
       "      <td>8.489</td>\n",
       "      <td>9.049</td>\n",
       "      <td>8.228</td>\n",
       "      <td>8.935</td>\n",
       "      <td>7865253.5</td>\n",
       "    </tr>\n",
       "    <tr>\n",
       "      <th>1</th>\n",
       "      <td>NEAR/USDT</td>\n",
       "      <td>2022-02-24 07:00:00+07:00</td>\n",
       "      <td>8.558</td>\n",
       "      <td>8.824</td>\n",
       "      <td>7.385</td>\n",
       "      <td>8.488</td>\n",
       "      <td>17816580.0</td>\n",
       "    </tr>\n",
       "    <tr>\n",
       "      <th>2</th>\n",
       "      <td>NEAR/USDT</td>\n",
       "      <td>2022-02-23 07:00:00+07:00</td>\n",
       "      <td>8.959</td>\n",
       "      <td>9.448</td>\n",
       "      <td>8.525</td>\n",
       "      <td>8.556</td>\n",
       "      <td>6861524.5</td>\n",
       "    </tr>\n",
       "    <tr>\n",
       "      <th>3</th>\n",
       "      <td>NEAR/USDT</td>\n",
       "      <td>2022-02-22 07:00:00+07:00</td>\n",
       "      <td>8.547</td>\n",
       "      <td>9.024</td>\n",
       "      <td>8.205</td>\n",
       "      <td>8.965</td>\n",
       "      <td>7822610.0</td>\n",
       "    </tr>\n",
       "    <tr>\n",
       "      <th>4</th>\n",
       "      <td>NEAR/USDT</td>\n",
       "      <td>2022-02-21 07:00:00+07:00</td>\n",
       "      <td>9.294</td>\n",
       "      <td>9.846</td>\n",
       "      <td>8.494</td>\n",
       "      <td>8.545</td>\n",
       "      <td>8819900.0</td>\n",
       "    </tr>\n",
       "  </tbody>\n",
       "</table>\n",
       "</div>"
      ],
      "text/plain": [
       "     Pair_ID                  Timestamp   Open   High    Low  Close  \\\n",
       "0  NEAR/USDT  2022-02-25 07:00:00+07:00  8.489  9.049  8.228  8.935   \n",
       "1  NEAR/USDT  2022-02-24 07:00:00+07:00  8.558  8.824  7.385  8.488   \n",
       "2  NEAR/USDT  2022-02-23 07:00:00+07:00  8.959  9.448  8.525  8.556   \n",
       "3  NEAR/USDT  2022-02-22 07:00:00+07:00  8.547  9.024  8.205  8.965   \n",
       "4  NEAR/USDT  2022-02-21 07:00:00+07:00  9.294  9.846  8.494  8.545   \n",
       "\n",
       "       Volume  \n",
       "0   7865253.5  \n",
       "1  17816580.0  \n",
       "2   6861524.5  \n",
       "3   7822610.0  \n",
       "4   8819900.0  "
      ]
     },
     "execution_count": 16,
     "metadata": {},
     "output_type": "execute_result"
    }
   ],
   "source": [
    "_input_query = f\"\"\"\n",
    "\n",
    "select *\n",
    "from my_db.main.BINANCE\n",
    "order by timestamp desc\n",
    "\n",
    "\"\"\"\n",
    "\n",
    "df = pd.read_sql(_input_query, conn)\n",
    "print(df.shape)\n",
    "print(df.info())\n",
    "df.head()"
   ]
  },
  {
   "cell_type": "code",
   "execution_count": 18,
   "id": "6c339163",
   "metadata": {},
   "outputs": [
    {
     "name": "stdout",
     "output_type": "stream",
     "text": [
      "2020-10-14 07:00:00+07:00\n",
      "2022-02-25 07:00:00+07:00\n"
     ]
    }
   ],
   "source": [
    "print(df.Timestamp.min())\n",
    "print(df.Timestamp.max())"
   ]
  },
  {
   "cell_type": "code",
   "execution_count": null,
   "id": "96d5c98a",
   "metadata": {},
   "outputs": [],
   "source": []
  },
  {
   "cell_type": "code",
   "execution_count": null,
   "id": "0e3566c4",
   "metadata": {},
   "outputs": [],
   "source": []
  },
  {
   "cell_type": "code",
   "execution_count": null,
   "id": "6f7ff126",
   "metadata": {},
   "outputs": [],
   "source": []
  }
 ],
 "metadata": {
  "kernelspec": {
   "display_name": "dataops_env (3.11.9)",
   "language": "python",
   "name": "python3"
  },
  "language_info": {
   "codemirror_mode": {
    "name": "ipython",
    "version": 3
   },
   "file_extension": ".py",
   "mimetype": "text/x-python",
   "name": "python",
   "nbconvert_exporter": "python",
   "pygments_lexer": "ipython3",
   "version": "3.11.9"
  }
 },
 "nbformat": 4,
 "nbformat_minor": 5
}
