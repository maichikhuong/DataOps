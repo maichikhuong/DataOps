{
 "cells": [
  {
   "cell_type": "code",
   "execution_count": 1,
   "metadata": {},
   "outputs": [],
   "source": [
    "import json\n",
    "import os\n",
    "import sys\n",
    "\n",
    "sys.path.append('../common') \n",
    "from utils import PostgreUtils"
   ]
  },
  {
   "cell_type": "code",
   "execution_count": 2,
   "metadata": {},
   "outputs": [],
   "source": [
    "def get_insert_query(table_name, tmp_li):\n",
    "    str_li = []\n",
    "    for item in tmp_li:\n",
    "        modified_time = str(item['modified']['time'])\n",
    "        _id = str(item['_id'])\n",
    "        name = str(item['name']).replace(\"'\", \"''\")\n",
    "        slug = str(item['slug'])\n",
    "        origin_name = str(item['origin_name']).replace(\"'\", \"''\")\n",
    "        poster_url = str(item['poster_url'])\n",
    "        thumb_url = str(item['thumb_url'])\n",
    "        year = str(item['year'])\n",
    "\n",
    "        tmp_str = ', '.join([\n",
    "            \"'\" + modified_time + \"'\"\n",
    "            , \"'\" + _id + \"'\"\n",
    "            , \"'\" + name + \"'\"\n",
    "            , \"'\" + slug + \"'\"\n",
    "            , \"'\" + origin_name + \"'\"\n",
    "            , \"'\" + poster_url + \"'\"\n",
    "            , \"'\" + thumb_url + \"'\"\n",
    "            , \"'\" + year + \"'\"\n",
    "        ])\n",
    "\n",
    "        tmp_str = '(' + tmp_str + ')'\n",
    "        str_li.append(tmp_str)\n",
    "\n",
    "    four_indent_str = '    '\n",
    "    insert_query = f\"INSERT INTO {table_name} (modified_time, _id, name, slug, origin_name, poster_url, thumb_url, year)\\n\"\n",
    "    insert_query += \"VALUES\\n\"\n",
    "    for i, str_value in enumerate(str_li):\n",
    "        if i != len(str_li) - 1:\n",
    "            insert_query += four_indent_str + str_value + ',\\n'\n",
    "        else:\n",
    "            insert_query += four_indent_str + str_value\n",
    "\n",
    "    return insert_query\n",
    "\n",
    "\n",
    "def bulk_delete(tmp_li):\n",
    "    print('Delete files in tmp_li from local directory')"
   ]
  },
  {
   "cell_type": "code",
   "execution_count": 3,
   "metadata": {},
   "outputs": [],
   "source": [
    "refresh = True\n",
    "\n",
    "if refresh:\n",
    "    query = 'TRUNCATE TABLE kkphim.items'\n",
    "    PostgreUtils.execute_query(query)"
   ]
  },
  {
   "cell_type": "code",
   "execution_count": 7,
   "metadata": {},
   "outputs": [
    {
     "name": "stdout",
     "output_type": "stream",
     "text": [
      "Execute query successfully!!!\n"
     ]
    }
   ],
   "source": [
    "# Define the path to the directory\n",
    "directory_path = '../temp/raw_items'\n",
    "\n",
    "table_name = 'kkphim.items'\n",
    "\n",
    "# List all files in the directory\n",
    "files = os.listdir(directory_path)\n",
    "\n",
    "# Filter out directories, keeping only files\n",
    "files = [file for file in files if os.path.isfile(os.path.join(directory_path, file))]\n",
    "\n",
    "tmp_li = []\n",
    "\n",
    "for f in files:\n",
    "    # Define the path to json files\n",
    "    json_file_path = directory_path + '/' + f\n",
    "    \n",
    "    # load the json file\n",
    "    with open(json_file_path, 'r') as file:\n",
    "        data = json.load(file)\n",
    "    \n",
    "    tmp_li += data['items']\n",
    "    \n",
    "    # batch insert for each 1000 records\n",
    "    if len(tmp_li) == 1000:\n",
    "\n",
    "        # do batch insert to postgres\n",
    "        insert_query = get_insert_query(table_name, tmp_li)\n",
    "        PostgreUtils.execute_query(insert_query)\n",
    "\n",
    "        # do delete files in tmp_li from local directory\n",
    "        # bulk_delete(tmp_li)\n",
    "\n",
    "        # reset tmp_li to be empty\n",
    "        tmp_li = []\n",
    "\n",
    "\n",
    "if len(tmp_li) != 0:\n",
    "    # do bulk insert to postgres the remaining records in tmp_li\n",
    "    insert_query = get_insert_query(table_name, tmp_li)\n",
    "    PostgreUtils.execute_query(insert_query)\n",
    "\n",
    "#     # do delete files in tmp_li from local directory\n",
    "#     print('Delete files in tmp_li from local directory')"
   ]
  },
  {
   "cell_type": "code",
   "execution_count": 5,
   "metadata": {},
   "outputs": [],
   "source": [
    "# print(insert_query)"
   ]
  },
  {
   "cell_type": "code",
   "execution_count": null,
   "metadata": {},
   "outputs": [],
   "source": [
    "    "
   ]
  }
 ],
 "metadata": {
  "kernelspec": {
   "display_name": "phimville-env",
   "language": "python",
   "name": "python3"
  },
  "language_info": {
   "codemirror_mode": {
    "name": "ipython",
    "version": 3
   },
   "file_extension": ".py",
   "mimetype": "text/x-python",
   "name": "python",
   "nbconvert_exporter": "python",
   "pygments_lexer": "ipython3",
   "version": "3.12.8"
  }
 },
 "nbformat": 4,
 "nbformat_minor": 2
}
