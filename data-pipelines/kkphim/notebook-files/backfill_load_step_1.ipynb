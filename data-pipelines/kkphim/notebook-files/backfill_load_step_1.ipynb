{
 "cells": [
  {
   "cell_type": "code",
   "execution_count": 1,
   "metadata": {},
   "outputs": [],
   "source": [
    "from datetime import datetime\n",
    "import sys\n",
    "\n",
    "sys.path.append('../common') \n",
    "from utils import Kkphim"
   ]
  },
  {
   "cell_type": "code",
   "execution_count": 3,
   "metadata": {},
   "outputs": [],
   "source": [
    "start_time = '2024-12-21'\n",
    "end_time = '2024-12-22'\n",
    "start_page_id = Kkphim.find_page_id(start_time)\n",
    "end_page_id = Kkphim.find_page_id(end_time)"
   ]
  },
  {
   "cell_type": "code",
   "execution_count": 4,
   "metadata": {},
   "outputs": [
    {
     "name": "stdout",
     "output_type": "stream",
     "text": [
      "34 31\n"
     ]
    }
   ],
   "source": [
    "print(start_page_id, end_page_id)"
   ]
  },
  {
   "cell_type": "code",
   "execution_count": 5,
   "metadata": {},
   "outputs": [
    {
     "name": "stdout",
     "output_type": "stream",
     "text": [
      "Data saved to page_000031.json\n",
      "Data saved to page_000032.json\n",
      "Data saved to page_000033.json\n",
      "Data saved to page_000034.json\n"
     ]
    }
   ],
   "source": [
    "# crawl data from start_page_id to end_page_id\n",
    "Kkphim.crawl_data(start_page_id, end_page_id)"
   ]
  },
  {
   "cell_type": "code",
   "execution_count": null,
   "metadata": {},
   "outputs": [],
   "source": []
  }
 ],
 "metadata": {
  "kernelspec": {
   "display_name": "phimville-env",
   "language": "python",
   "name": "python3"
  },
  "language_info": {
   "codemirror_mode": {
    "name": "ipython",
    "version": 3
   },
   "file_extension": ".py",
   "mimetype": "text/x-python",
   "name": "python",
   "nbconvert_exporter": "python",
   "pygments_lexer": "ipython3",
   "version": "3.12.8"
  }
 },
 "nbformat": 4,
 "nbformat_minor": 2
}
